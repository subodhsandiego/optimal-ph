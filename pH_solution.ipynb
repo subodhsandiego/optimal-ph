{
 "cells": [
  {
   "cell_type": "code",
   "execution_count": 1,
   "metadata": {},
   "outputs": [
    {
     "data": {
      "text/plain": [
       "'/Users/macrebirth/Desktop/CBH/optimal-ph'"
      ]
     },
     "execution_count": 1,
     "metadata": {},
     "output_type": "execute_result"
    }
   ],
   "source": [
    "pwd"
   ]
  },
  {
   "cell_type": "code",
   "execution_count": 2,
   "metadata": {},
   "outputs": [],
   "source": [
    "import pandas as pd\n",
    "import numpy as np\n",
    "from sklearn.linear_model import LinearRegression, SGDClassifier\n",
    "from sklearn.utils import shuffle\n",
    "\n",
    "from sklearn.feature_extraction.text import TfidfVectorizer\n",
    "from sklearn.metrics import mean_squared_error\n"
   ]
  },
  {
   "cell_type": "code",
   "execution_count": 7,
   "metadata": {},
   "outputs": [],
   "source": [
    "df = pd.read_csv('/Users/macrebirth/Desktop/CBH/optimal-ph/data/train_set.csv')"
   ]
  },
  {
   "cell_type": "code",
   "execution_count": 8,
   "metadata": {},
   "outputs": [],
   "source": [
    "shuffle_df=shuffle(df,random_state=42)"
   ]
  },
  {
   "cell_type": "code",
   "execution_count": 9,
   "metadata": {},
   "outputs": [],
   "source": [
    "label_mapping = {}\n",
    "ph = 0.0\n",
    "ctr = 0\n",
    "while ph <= 14.0:\n",
    "    label_mapping[str(round(ph,1))] = ctr\n",
    "    ctr += 1\n",
    "    ph += 0.1"
   ]
  },
  {
   "cell_type": "code",
   "execution_count": 11,
   "metadata": {},
   "outputs": [],
   "source": [
    "label_mapping_inv = {}\n",
    "for key in label_mapping:\n",
    "    label_mapping_inv[label_mapping[key]] = key"
   ]
  },
  {
   "cell_type": "code",
   "execution_count": 12,
   "metadata": {},
   "outputs": [],
   "source": [
    "new_df = []\n",
    "max_7_ph = 10000\n",
    "count_7_ph = 0\n",
    "\n",
    "for idx,row in shuffle_df.iterrows():\n",
    "    if row.mean_growth_PH ==7.0:\n",
    "        if count_7_ph<max_7_ph:\n",
    "            new_df.append({\n",
    "                'mean_growth_PH':row.mean_growth_PH,\n",
    "                'sequence':row.sequence,\n",
    "                'PH_class':label_mapping[str(round(row.mean_growth_PH,1))]\n",
    "            })\n",
    "            count_7_ph+=1\n",
    "    else:\n",
    "        new_df.append({\n",
    "                'mean_growth_PH':row.mean_growth_PH,\n",
    "                'sequence':row.sequence,\n",
    "                'PH_class':label_mapping[str(round(row.mean_growth_PH,1))]\n",
    "            })\n",
    "        count_7_ph+=1"
   ]
  },
  {
   "cell_type": "code",
   "execution_count": 14,
   "metadata": {},
   "outputs": [
    {
     "data": {
      "text/html": [
       "<div>\n",
       "<style scoped>\n",
       "    .dataframe tbody tr th:only-of-type {\n",
       "        vertical-align: middle;\n",
       "    }\n",
       "\n",
       "    .dataframe tbody tr th {\n",
       "        vertical-align: top;\n",
       "    }\n",
       "\n",
       "    .dataframe thead th {\n",
       "        text-align: right;\n",
       "    }\n",
       "</style>\n",
       "<table border=\"1\" class=\"dataframe\">\n",
       "  <thead>\n",
       "    <tr style=\"text-align: right;\">\n",
       "      <th></th>\n",
       "      <th>mean_growth_PH</th>\n",
       "      <th>sequence</th>\n",
       "      <th>PH_class</th>\n",
       "    </tr>\n",
       "  </thead>\n",
       "  <tbody>\n",
       "    <tr>\n",
       "      <th>0</th>\n",
       "      <td>7.0</td>\n",
       "      <td>MKSPAPSRPQKMALIPACIFLCFAALSVQAEETPVTPQPPDILLGP...</td>\n",
       "      <td>70</td>\n",
       "    </tr>\n",
       "    <tr>\n",
       "      <th>1</th>\n",
       "      <td>7.5</td>\n",
       "      <td>MAVARKSRGTRVRHLGLAGRTGTMLLAAGIGVLSPASVALPAWAQQ...</td>\n",
       "      <td>75</td>\n",
       "    </tr>\n",
       "    <tr>\n",
       "      <th>2</th>\n",
       "      <td>7.8</td>\n",
       "      <td>MSRSLSLSAYLAYARRAGRAGPVPDQVRPPGPLIWAHAVDAARADT...</td>\n",
       "      <td>78</td>\n",
       "    </tr>\n",
       "    <tr>\n",
       "      <th>3</th>\n",
       "      <td>7.0</td>\n",
       "      <td>MMISLSPKPACLTLLLGLLAGAVHASPPTDLSLTRWAEKTVFKAQS...</td>\n",
       "      <td>70</td>\n",
       "    </tr>\n",
       "    <tr>\n",
       "      <th>4</th>\n",
       "      <td>7.0</td>\n",
       "      <td>MKHKLIATGILAGAILSYSSNILADTHKFPDVPTWADKSVNYLVDK...</td>\n",
       "      <td>70</td>\n",
       "    </tr>\n",
       "    <tr>\n",
       "      <th>...</th>\n",
       "      <td>...</td>\n",
       "      <td>...</td>\n",
       "      <td>...</td>\n",
       "    </tr>\n",
       "    <tr>\n",
       "      <th>41794</th>\n",
       "      <td>6.0</td>\n",
       "      <td>MIQFSALQRFTMRFMVAAVCCAFTFASQAQTSQAPHMEEHDGHHAL...</td>\n",
       "      <td>60</td>\n",
       "    </tr>\n",
       "    <tr>\n",
       "      <th>41795</th>\n",
       "      <td>6.6</td>\n",
       "      <td>MRFDARAALRRCGSAVLALIMGASLVSAEAAADDAPPAKELFGAKG...</td>\n",
       "      <td>66</td>\n",
       "    </tr>\n",
       "    <tr>\n",
       "      <th>41796</th>\n",
       "      <td>8.0</td>\n",
       "      <td>MTNLTLAFSTIFVVALVAMVSTKLWLASRQIRYVAAHRNGVPAQFS...</td>\n",
       "      <td>80</td>\n",
       "    </tr>\n",
       "    <tr>\n",
       "      <th>41797</th>\n",
       "      <td>6.5</td>\n",
       "      <td>MYNRVSDRSTRPNQADEPSGSADGYEFAQALTDLAQRESPPCGELS...</td>\n",
       "      <td>65</td>\n",
       "    </tr>\n",
       "    <tr>\n",
       "      <th>41798</th>\n",
       "      <td>6.6</td>\n",
       "      <td>MNSIDRTSVLGAGLLLALGCMPLPVAAQSDPSRETATTGWATQNGG...</td>\n",
       "      <td>66</td>\n",
       "    </tr>\n",
       "  </tbody>\n",
       "</table>\n",
       "<p>41799 rows × 3 columns</p>\n",
       "</div>"
      ],
      "text/plain": [
       "       mean_growth_PH                                           sequence  \\\n",
       "0                 7.0  MKSPAPSRPQKMALIPACIFLCFAALSVQAEETPVTPQPPDILLGP...   \n",
       "1                 7.5  MAVARKSRGTRVRHLGLAGRTGTMLLAAGIGVLSPASVALPAWAQQ...   \n",
       "2                 7.8  MSRSLSLSAYLAYARRAGRAGPVPDQVRPPGPLIWAHAVDAARADT...   \n",
       "3                 7.0  MMISLSPKPACLTLLLGLLAGAVHASPPTDLSLTRWAEKTVFKAQS...   \n",
       "4                 7.0  MKHKLIATGILAGAILSYSSNILADTHKFPDVPTWADKSVNYLVDK...   \n",
       "...               ...                                                ...   \n",
       "41794             6.0  MIQFSALQRFTMRFMVAAVCCAFTFASQAQTSQAPHMEEHDGHHAL...   \n",
       "41795             6.6  MRFDARAALRRCGSAVLALIMGASLVSAEAAADDAPPAKELFGAKG...   \n",
       "41796             8.0  MTNLTLAFSTIFVVALVAMVSTKLWLASRQIRYVAAHRNGVPAQFS...   \n",
       "41797             6.5  MYNRVSDRSTRPNQADEPSGSADGYEFAQALTDLAQRESPPCGELS...   \n",
       "41798             6.6  MNSIDRTSVLGAGLLLALGCMPLPVAAQSDPSRETATTGWATQNGG...   \n",
       "\n",
       "       PH_class  \n",
       "0            70  \n",
       "1            75  \n",
       "2            78  \n",
       "3            70  \n",
       "4            70  \n",
       "...         ...  \n",
       "41794        60  \n",
       "41795        66  \n",
       "41796        80  \n",
       "41797        65  \n",
       "41798        66  \n",
       "\n",
       "[41799 rows x 3 columns]"
      ]
     },
     "execution_count": 14,
     "metadata": {},
     "output_type": "execute_result"
    }
   ],
   "source": [
    "subdf = pd.DataFrame(new_df)\n",
    "subdf"
   ]
  },
  {
   "cell_type": "code",
   "execution_count": 15,
   "metadata": {},
   "outputs": [],
   "source": [
    "train_df = subdf.loc[0:38000]\n",
    "test_df= subdf.loc[38000:]"
   ]
  },
  {
   "cell_type": "code",
   "execution_count": 16,
   "metadata": {},
   "outputs": [],
   "source": [
    "tfidfvectorizer = TfidfVectorizer(analyzer='char',ngram_range=(3,3))\n",
    "tfidf = tfidfvectorizer.fit_transform(train_df.sequence)"
   ]
  },
  {
   "cell_type": "code",
   "execution_count": 17,
   "metadata": {},
   "outputs": [],
   "source": [
    "regr = LinearRegression().fit(tfidf,train_df.mean_growth_PH)"
   ]
  },
  {
   "cell_type": "code",
   "execution_count": 18,
   "metadata": {},
   "outputs": [],
   "source": [
    "classifier = SGDClassifier().fit(tfidf, train_df.PH_class)"
   ]
  },
  {
   "cell_type": "code",
   "execution_count": 19,
   "metadata": {},
   "outputs": [
    {
     "name": "stdout",
     "output_type": "stream",
     "text": [
      "7.0 6.953864772085545 70 7.0\n",
      "7.5 7.023744266432794 75 7.5\n",
      "7.8 7.03550922636619 65 6.5\n",
      "7.0 7.063294476209727 71 7.1\n",
      "7.0 7.2571862019076026 70 7.0\n",
      "7.0 7.647729158718111 70 7.0\n",
      "7.0 7.131421419525632 70 7.0\n",
      "7.0 6.250406314220321 65 6.5\n",
      "7.0 6.94991519866118 70 7.0\n",
      "6.2 6.074345021145593 62 6.2\n",
      "7.0 7.030573387562143 70 7.0\n",
      "7.0 7.900048357957083 70 7.0\n",
      "7.0 6.933568839762847 70 7.0\n",
      "6.5 6.08117566192979 65 6.5\n",
      "7.0 7.242489423405829 75 7.5\n",
      "6.8 7.035493374629592 68 6.8\n",
      "7.0 6.484123744553066 70 7.0\n",
      "7.0 7.07063221158321 70 7.0\n",
      "7.0 6.493817579404778 70 7.0\n",
      "8.9 8.822160019755055 89 8.9\n",
      "6.8 6.899185810507393 68 6.8\n",
      "6.5 6.570772201646779 65 6.5\n",
      "7.0 6.955650485063839 70 7.0\n",
      "7.0 6.999888124026462 70 7.0\n",
      "7.4 7.326243631848083 74 7.4\n",
      "8.5 6.791811986158733 65 6.5\n",
      "7.0 7.212108835281511 70 7.0\n",
      "4.5 4.555373731184884 45 4.5\n",
      "7.0 5.994039590032508 70 7.0\n",
      "7.0 7.041429647560424 70 7.0\n",
      "7.0 7.257539332019869 70 7.0\n",
      "7.14 7.3068397264703195 71 7.1\n",
      "7.0 6.683247638886601 70 7.0\n",
      "7.45 7.182764667904919 75 7.5\n",
      "7.0 7.179395182371362 70 7.0\n",
      "3.2 3.4411325259555188 25 2.5\n",
      "7.0 7.629388779477208 70 7.0\n",
      "7.0 7.168553612893771 70 7.0\n",
      "7.0 5.77832956724223 70 7.0\n",
      "7.0 6.731415098037959 70 7.0\n",
      "7.0 6.237086348814355 70 7.0\n",
      "4.5 4.552164048449537 45 4.5\n",
      "7.0 6.998316740808169 70 7.0\n",
      "7.5 7.015336523656395 70 7.0\n",
      "7.0 7.013037731010817 70 7.0\n",
      "7.0 6.9087709154497885 70 7.0\n",
      "7.4 7.40026281152438 68 6.8\n",
      "6.2 6.26528468423666 62 6.2\n",
      "7.0 6.707007907794924 70 7.0\n",
      "7.0 7.47945096524213 70 7.0\n",
      "7.0 6.534235289049524 70 7.0\n",
      "6.5 6.789175217153972 70 7.0\n",
      "6.8 6.185476579763888 68 6.8\n",
      "7.0 7.132715559681013 70 7.0\n",
      "6.5 6.872673839060342 65 6.5\n",
      "6.2 7.43285935782999 65 6.5\n",
      "7.5 6.7227776800218315 70 7.0\n",
      "7.0 7.261604038652162 70 7.0\n",
      "7.0 6.640148327727084 70 7.0\n",
      "7.5 6.478893749237947 74 7.4\n",
      "7.1 7.2614176006769275 71 7.1\n",
      "7.0 6.861304300336455 70 7.0\n",
      "6.8 7.002650838313084 68 6.8\n",
      "6.8 7.0096265971952985 68 6.8\n",
      "7.0 7.101100395612864 70 7.0\n",
      "7.0 7.253247015432783 85 8.5\n",
      "7.0 6.775765861909118 70 7.0\n",
      "6.8 6.919732165346234 65 6.5\n",
      "7.0 6.813860828196493 70 7.0\n",
      "7.0 6.760832168914435 74 7.4\n",
      "7.0 6.8991767782802365 70 7.0\n",
      "7.0 6.8765075789816565 70 7.0\n",
      "7.1 7.864384240129778 68 6.8\n",
      "7.0 6.960570947398497 70 7.0\n",
      "7.0 6.478159982475797 65 6.5\n",
      "7.1 7.8488114659733945 65 6.5\n",
      "6.5 6.379650337208223 65 6.5\n",
      "6.8 6.984739207962871 68 6.8\n",
      "7.0 6.772110071514762 70 7.0\n",
      "7.0 6.65183506935108 70 7.0\n",
      "7.0 6.883991983763638 70 7.0\n",
      "7.0 6.142190547109202 70 7.0\n",
      "7.0 7.11880325678013 70 7.0\n",
      "7.0 7.1866105749158296 70 7.0\n",
      "6.5 6.053638887390173 65 6.5\n",
      "7.0 7.461505647984095 70 7.0\n",
      "7.2 6.6362039223959695 72 7.2\n",
      "7.0 7.444251529331156 62 6.2\n",
      "7.5 7.749972319093915 75 7.5\n",
      "7.0 6.44407624490446 65 6.5\n",
      "6.8 6.974676503560836 68 6.8\n",
      "7.0 7.133415590205988 70 7.0\n",
      "7.0 5.712274094909175 70 7.0\n",
      "7.0 7.128646197841423 70 7.0\n",
      "6.8 6.881680129518213 68 6.8\n",
      "6.6 6.600005540616039 66 6.6\n",
      "6.8 7.5443953407070685 65 6.5\n",
      "7.0 6.895517203783357 68 6.8\n",
      "7.3 6.050062164431725 65 6.5\n",
      "7.0 7.179534607858132 70 7.0\n"
     ]
    }
   ],
   "source": [
    "y_pred = regr.predict(tfidf)\n",
    "y_pred_classifier = classifier.predict(tfidf)\n",
    "y_pred_classifier_float = []\n",
    "for idx, row in train_df.iterrows():\n",
    "    if idx < 100:\n",
    "        print(row.mean_growth_PH, y_pred[idx], y_pred_classifier[idx], label_mapping_inv[y_pred_classifier[idx]])\n",
    "    y_pred_classifier_float.append(float(label_mapping_inv[y_pred_classifier[idx]]))\n",
    "\n",
    "res1 = np.sqrt(mean_squared_error(train_df.mean_growth_PH, y_pred))\n",
    "res2 = np.sqrt(mean_squared_error(train_df.mean_growth_PH, y_pred_classifier_float))\n"
   ]
  },
  {
   "cell_type": "code",
   "execution_count": 20,
   "metadata": {},
   "outputs": [],
   "source": [
    "tfidf_test = tfidfvectorizer.transform(test_df.sequence)"
   ]
  },
  {
   "cell_type": "code",
   "execution_count": 24,
   "metadata": {},
   "outputs": [
    {
     "name": "stdout",
     "output_type": "stream",
     "text": [
      "6.5 6.427426352779364 65 6.5\n",
      "7.2 7.491304013362893 69 6.9\n",
      "6.8 6.753462494489433 68 6.8\n",
      "7.14 7.120362078571763 71 7.1\n",
      "7.5 5.537423451810852 59 5.9\n",
      "7.4 6.205604867796813 65 6.5\n",
      "7.8 6.074559652693351 65 6.5\n",
      "6.8 6.594339091389632 68 6.8\n",
      "6.8 6.6944020189379785 65 6.5\n",
      "6.0 5.429484178256273 70 7.0\n",
      "7.5 8.633136778306733 85 8.5\n",
      "6.5 6.795916207670396 65 6.5\n",
      "8.0 7.583482175570528 65 6.5\n",
      "6.75 6.582205196277017 68 6.8\n",
      "6.5 6.703977253510292 71 7.1\n",
      "7.2 6.841256034666995 71 7.1\n",
      "6.0 6.5256255701030215 65 6.5\n",
      "6.5 6.080769512278273 65 6.5\n",
      "7.2 7.240576808764336 75 7.5\n",
      "6.2 8.39161254597916 74 7.4\n",
      "8.0 6.998486686282064 75 7.5\n",
      "6.2 4.770619577098601 80 8.0\n",
      "8.0 7.363867191490614 65 6.5\n",
      "6.0 6.954645471361883 78 7.8\n",
      "4.5 4.916570126147665 45 4.5\n",
      "7.2 5.6131434257432895 65 6.5\n",
      "6.5 6.848658456257496 65 6.5\n",
      "6.8 6.787473024422942 68 6.8\n",
      "6.0 4.261159617917704 60 6.0\n",
      "8.0 8.824972794212682 75 7.5\n",
      "1.9 3.8410176336406066 70 7.0\n",
      "6.6 6.506498754935133 66 6.6\n",
      "6.8 6.78700557847116 68 6.8\n",
      "6.8 7.002437024438552 68 6.8\n",
      "8.0 7.891927918527226 80 8.0\n",
      "6.7 6.379370825612034 62 6.2\n",
      "6.8 6.776085643656679 68 6.8\n",
      "7.5 6.684068439840347 62 6.2\n",
      "6.8 6.910620290734208 68 6.8\n",
      "6.8 6.985327163037255 68 6.8\n",
      "6.5 7.497261283584177 65 6.5\n",
      "7.5 7.402908548009059 70 7.0\n",
      "6.5 6.477882203251515 65 6.5\n",
      "8.5 7.189377114236421 66 6.6\n",
      "6.8 6.995855635934092 68 6.8\n",
      "7.5 6.05728329926896 68 6.8\n",
      "6.5 6.5633940965964035 65 6.5\n",
      "7.2 6.5411064259068725 66 6.6\n",
      "6.2 7.138597833206497 70 7.0\n",
      "7.5 7.66134504271827 70 7.0\n",
      "6.5 6.936906333181935 65 6.5\n",
      "7.5 8.18413446437809 65 6.5\n",
      "6.8 6.789303954318408 68 6.8\n",
      "6.8 7.441732607892366 69 6.9\n",
      "7.5 6.927862343930511 62 6.2\n",
      "6.0 6.15343703304663 70 7.0\n",
      "6.8 5.432433383500429 98 9.8\n",
      "7.1 8.001301375100322 71 7.1\n",
      "8.2 7.084011019588223 70 7.0\n",
      "6.8 6.873994909065089 68 6.8\n",
      "7.8 8.550598940751646 70 7.0\n",
      "5.5 6.53120126115082 70 7.0\n",
      "8.5 7.859720288513527 73 7.3\n",
      "7.1 7.758449284508588 65 6.5\n",
      "6.0 5.694468540852248 65 6.5\n",
      "6.8 6.650949286757642 68 6.8\n",
      "6.5 6.447294791422172 65 6.5\n",
      "7.5 6.969215392408489 75 7.5\n",
      "6.8 6.747218399746529 68 6.8\n",
      "6.5 6.95450298858907 74 7.4\n",
      "6.2 5.0733716277264715 65 6.5\n",
      "7.5 7.517202340919159 80 8.0\n",
      "8.0 7.171471297727496 70 7.0\n",
      "10.0 10.288195615278585 75 7.5\n",
      "6.5 7.003986314675163 65 6.5\n",
      "6.5 6.032835278022488 65 6.5\n",
      "4.5 4.650427003273581 45 4.5\n",
      "7.3 7.029783269370876 65 6.5\n",
      "7.2 7.297902235461006 60 6.0\n",
      "9.0 8.602114203399976 90 9.0\n",
      "8.0 7.792693018773331 80 8.0\n",
      "7.6 6.999223589921518 65 6.5\n",
      "7.2 7.669568022191437 74 7.4\n",
      "7.4 7.526523736116514 74 7.4\n",
      "9.0 8.549054360779428 74 7.4\n",
      "6.5 7.205291856446391 65 6.5\n",
      "6.0 5.999984480213753 60 6.0\n",
      "7.5 6.910945287746289 74 7.4\n",
      "7.5 7.402967356354534 73 7.3\n",
      "6.6 6.562444192999877 66 6.6\n",
      "6.8 6.831370345067968 68 6.8\n",
      "2.54375 3.3966181195677096 25 2.5\n",
      "7.2 7.048402888807542 70 7.0\n",
      "7.6 7.833300824384981 76 7.6\n",
      "7.5 7.247036917992496 75 7.5\n",
      "6.75 6.717535354965937 68 6.8\n",
      "6.8 6.9596889132421405 68 6.8\n",
      "6.75 6.670539292617086 68 6.8\n",
      "6.5 6.552579429143695 65 6.5\n",
      "6.5 6.962440435281875 65 6.5\n"
     ]
    }
   ],
   "source": [
    "pred1 = regr.predict(tfidf_test)\n",
    "pred2 = classifier.predict(tfidf_test)\n",
    "y_pred_classifier_float_2 = []\n",
    "idx = 0\n",
    "for _, row in test_df.iterrows():\n",
    "    if idx < 100:\n",
    "        print(row.mean_growth_PH, pred1[idx], pred2[idx], label_mapping_inv[pred2[idx]])\n",
    "    y_pred_classifier_float_2.append(float(label_mapping_inv[pred2[idx]]))\n",
    "    idx +=1\n",
    "\n",
    "res3 = np.sqrt(mean_squared_error(test_df.mean_growth_PH, pred1))\n",
    "res4 = np.sqrt(mean_squared_error(test_df.mean_growth_PH, y_pred_classifier_float_2))"
   ]
  },
  {
   "cell_type": "code",
   "execution_count": 22,
   "metadata": {},
   "outputs": [
    {
     "name": "stdout",
     "output_type": "stream",
     "text": [
      "0.9283512376585394 0.906892674996338\n"
     ]
    }
   ],
   "source": [
    "print(res3,res4)"
   ]
  },
  {
   "cell_type": "code",
   "execution_count": 23,
   "metadata": {},
   "outputs": [],
   "source": [
    "import seaborn as sns"
   ]
  },
  {
   "cell_type": "code",
   "execution_count": 25,
   "metadata": {},
   "outputs": [
    {
     "data": {
      "text/plain": [
       "<matplotlib.axes._subplots.AxesSubplot at 0x7fb803cc5310>"
      ]
     },
     "execution_count": 25,
     "metadata": {},
     "output_type": "execute_result"
    },
    {
     "data": {
      "image/png": "[encoded data removed]",
      "text/plain": [
       "<Figure size 432x288 with 1 Axes>"
      ]
     },
     "metadata": {
      "needs_background": "light"
     },
     "output_type": "display_data"
    }
   ],
   "source": [
    "sns.residplot(test_df.mean_growth_PH,pred1)"
   ]
  },
  {
   "cell_type": "code",
   "execution_count": 26,
   "metadata": {},
   "outputs": [
    {
     "data": {
      "text/plain": [
       "<matplotlib.axes._subplots.AxesSubplot at 0x7fb8066f4dc0>"
      ]
     },
     "execution_count": 26,
     "metadata": {},
     "output_type": "execute_result"
    },
    {
     "data": {
      "image/png": "[encoded data removed]",
      "text/plain": [
       "<Figure size 432x288 with 1 Axes>"
      ]
     },
     "metadata": {
      "needs_background": "light"
     },
     "output_type": "display_data"
    }
   ],
   "source": [
    "sns.residplot(test_df.mean_growth_PH, y_pred_classifier_float_2)"
   ]
  },
  {
   "cell_type": "code",
   "execution_count": 27,
   "metadata": {},
   "outputs": [
    {
     "data": {
      "text/html": [
       "<div>\n",
       "<style scoped>\n",
       "    .dataframe tbody tr th:only-of-type {\n",
       "        vertical-align: middle;\n",
       "    }\n",
       "\n",
       "    .dataframe tbody tr th {\n",
       "        vertical-align: top;\n",
       "    }\n",
       "\n",
       "    .dataframe thead th {\n",
       "        text-align: right;\n",
       "    }\n",
       "</style>\n",
       "<table border=\"1\" class=\"dataframe\">\n",
       "  <thead>\n",
       "    <tr style=\"text-align: right;\">\n",
       "      <th></th>\n",
       "      <th>mean_growth_PH</th>\n",
       "      <th>sequence</th>\n",
       "    </tr>\n",
       "  </thead>\n",
       "  <tbody>\n",
       "    <tr>\n",
       "      <th>0</th>\n",
       "      <td>7.0</td>\n",
       "      <td>MKKRAHIISFILILALLFTGCSGNKENTSKEPVKETTEKGTGNIKT...</td>\n",
       "    </tr>\n",
       "    <tr>\n",
       "      <th>1</th>\n",
       "      <td>7.0</td>\n",
       "      <td>MGKGKRKKRIALYFKRAAVAMLVMVMLLQPIPGTAGSSVKSVEAAV...</td>\n",
       "    </tr>\n",
       "    <tr>\n",
       "      <th>2</th>\n",
       "      <td>7.0</td>\n",
       "      <td>MKVNNKNSARKLLSLFLGLVLIFSTLSFSNQAAAADKGTWAPNTTY...</td>\n",
       "    </tr>\n",
       "    <tr>\n",
       "      <th>3</th>\n",
       "      <td>7.0</td>\n",
       "      <td>MRKKVTAVLTALVLTVSSILANPFAYPDAVKADTEGNPAAASNSNG...</td>\n",
       "    </tr>\n",
       "    <tr>\n",
       "      <th>4</th>\n",
       "      <td>7.0</td>\n",
       "      <td>MKRQSRIISFLVAVIMIATVIMPATVVQANASGVFIRVNQVGYKPS...</td>\n",
       "    </tr>\n",
       "    <tr>\n",
       "      <th>...</th>\n",
       "      <td>...</td>\n",
       "      <td>...</td>\n",
       "    </tr>\n",
       "    <tr>\n",
       "      <th>104996</th>\n",
       "      <td>7.8</td>\n",
       "      <td>MPYRSNTYPRANRRSKSATFSTLLTILFIASHFAFGGIPASASMDG...</td>\n",
       "    </tr>\n",
       "    <tr>\n",
       "      <th>104997</th>\n",
       "      <td>7.8</td>\n",
       "      <td>MRMGKVEVSLVVVVGASMTALAVFGVLPKDPVPPAIAKATLWTPAP...</td>\n",
       "    </tr>\n",
       "    <tr>\n",
       "      <th>104998</th>\n",
       "      <td>7.8</td>\n",
       "      <td>MTTTLPTPHRFTGLALSAALATTTVLTLSPSAVLAVPAGGYGDLVE...</td>\n",
       "    </tr>\n",
       "    <tr>\n",
       "      <th>104999</th>\n",
       "      <td>7.8</td>\n",
       "      <td>MRDFQAPGRSAVLATNGMCATSHPLAAQAAIDILKRGGNAMDAAIA...</td>\n",
       "    </tr>\n",
       "    <tr>\n",
       "      <th>105000</th>\n",
       "      <td>7.8</td>\n",
       "      <td>MTPAFRHFVSALFLGLLPLSAAAFDTSAKAAFVIDQGTGTVLLSKN...</td>\n",
       "    </tr>\n",
       "  </tbody>\n",
       "</table>\n",
       "<p>105001 rows × 2 columns</p>\n",
       "</div>"
      ],
      "text/plain": [
       "        mean_growth_PH                                           sequence\n",
       "0                  7.0  MKKRAHIISFILILALLFTGCSGNKENTSKEPVKETTEKGTGNIKT...\n",
       "1                  7.0  MGKGKRKKRIALYFKRAAVAMLVMVMLLQPIPGTAGSSVKSVEAAV...\n",
       "2                  7.0  MKVNNKNSARKLLSLFLGLVLIFSTLSFSNQAAAADKGTWAPNTTY...\n",
       "3                  7.0  MRKKVTAVLTALVLTVSSILANPFAYPDAVKADTEGNPAAASNSNG...\n",
       "4                  7.0  MKRQSRIISFLVAVIMIATVIMPATVVQANASGVFIRVNQVGYKPS...\n",
       "...                ...                                                ...\n",
       "104996             7.8  MPYRSNTYPRANRRSKSATFSTLLTILFIASHFAFGGIPASASMDG...\n",
       "104997             7.8  MRMGKVEVSLVVVVGASMTALAVFGVLPKDPVPPAIAKATLWTPAP...\n",
       "104998             7.8  MTTTLPTPHRFTGLALSAALATTTVLTLSPSAVLAVPAGGYGDLVE...\n",
       "104999             7.8  MRDFQAPGRSAVLATNGMCATSHPLAAQAAIDILKRGGNAMDAAIA...\n",
       "105000             7.8  MTPAFRHFVSALFLGLLPLSAAAFDTSAKAAFVIDQGTGTVLLSKN...\n",
       "\n",
       "[105001 rows x 2 columns]"
      ]
     },
     "execution_count": 27,
     "metadata": {},
     "output_type": "execute_result"
    }
   ],
   "source": [
    "df"
   ]
  },
  {
   "cell_type": "code",
   "execution_count": 35,
   "metadata": {},
   "outputs": [
    {
     "data": {
      "text/html": [
       "<div>\n",
       "<style scoped>\n",
       "    .dataframe tbody tr th:only-of-type {\n",
       "        vertical-align: middle;\n",
       "    }\n",
       "\n",
       "    .dataframe tbody tr th {\n",
       "        vertical-align: top;\n",
       "    }\n",
       "\n",
       "    .dataframe thead th {\n",
       "        text-align: right;\n",
       "    }\n",
       "</style>\n",
       "<table border=\"1\" class=\"dataframe\">\n",
       "  <thead>\n",
       "    <tr style=\"text-align: right;\">\n",
       "      <th></th>\n",
       "      <th>mean_growth_PH</th>\n",
       "      <th>sequence</th>\n",
       "      <th>PH_class</th>\n",
       "    </tr>\n",
       "  </thead>\n",
       "  <tbody>\n",
       "    <tr>\n",
       "      <th>0</th>\n",
       "      <td>7.0</td>\n",
       "      <td>MKKRAHIISFILILALLFTGCSGNKENTSKEPVKETTEKGTGNIKT...</td>\n",
       "      <td>70</td>\n",
       "    </tr>\n",
       "    <tr>\n",
       "      <th>1</th>\n",
       "      <td>7.0</td>\n",
       "      <td>MGKGKRKKRIALYFKRAAVAMLVMVMLLQPIPGTAGSSVKSVEAAV...</td>\n",
       "      <td>70</td>\n",
       "    </tr>\n",
       "    <tr>\n",
       "      <th>2</th>\n",
       "      <td>7.0</td>\n",
       "      <td>MKVNNKNSARKLLSLFLGLVLIFSTLSFSNQAAAADKGTWAPNTTY...</td>\n",
       "      <td>70</td>\n",
       "    </tr>\n",
       "    <tr>\n",
       "      <th>3</th>\n",
       "      <td>7.0</td>\n",
       "      <td>MRKKVTAVLTALVLTVSSILANPFAYPDAVKADTEGNPAAASNSNG...</td>\n",
       "      <td>70</td>\n",
       "    </tr>\n",
       "    <tr>\n",
       "      <th>4</th>\n",
       "      <td>7.0</td>\n",
       "      <td>MKRQSRIISFLVAVIMIATVIMPATVVQANASGVFIRVNQVGYKPS...</td>\n",
       "      <td>70</td>\n",
       "    </tr>\n",
       "    <tr>\n",
       "      <th>...</th>\n",
       "      <td>...</td>\n",
       "      <td>...</td>\n",
       "      <td>...</td>\n",
       "    </tr>\n",
       "    <tr>\n",
       "      <th>104996</th>\n",
       "      <td>7.8</td>\n",
       "      <td>MPYRSNTYPRANRRSKSATFSTLLTILFIASHFAFGGIPASASMDG...</td>\n",
       "      <td>78</td>\n",
       "    </tr>\n",
       "    <tr>\n",
       "      <th>104997</th>\n",
       "      <td>7.8</td>\n",
       "      <td>MRMGKVEVSLVVVVGASMTALAVFGVLPKDPVPPAIAKATLWTPAP...</td>\n",
       "      <td>78</td>\n",
       "    </tr>\n",
       "    <tr>\n",
       "      <th>104998</th>\n",
       "      <td>7.8</td>\n",
       "      <td>MTTTLPTPHRFTGLALSAALATTTVLTLSPSAVLAVPAGGYGDLVE...</td>\n",
       "      <td>78</td>\n",
       "    </tr>\n",
       "    <tr>\n",
       "      <th>104999</th>\n",
       "      <td>7.8</td>\n",
       "      <td>MRDFQAPGRSAVLATNGMCATSHPLAAQAAIDILKRGGNAMDAAIA...</td>\n",
       "      <td>78</td>\n",
       "    </tr>\n",
       "    <tr>\n",
       "      <th>105000</th>\n",
       "      <td>7.8</td>\n",
       "      <td>MTPAFRHFVSALFLGLLPLSAAAFDTSAKAAFVIDQGTGTVLLSKN...</td>\n",
       "      <td>78</td>\n",
       "    </tr>\n",
       "  </tbody>\n",
       "</table>\n",
       "<p>105001 rows × 3 columns</p>\n",
       "</div>"
      ],
      "text/plain": [
       "        mean_growth_PH                                           sequence  \\\n",
       "0                  7.0  MKKRAHIISFILILALLFTGCSGNKENTSKEPVKETTEKGTGNIKT...   \n",
       "1                  7.0  MGKGKRKKRIALYFKRAAVAMLVMVMLLQPIPGTAGSSVKSVEAAV...   \n",
       "2                  7.0  MKVNNKNSARKLLSLFLGLVLIFSTLSFSNQAAAADKGTWAPNTTY...   \n",
       "3                  7.0  MRKKVTAVLTALVLTVSSILANPFAYPDAVKADTEGNPAAASNSNG...   \n",
       "4                  7.0  MKRQSRIISFLVAVIMIATVIMPATVVQANASGVFIRVNQVGYKPS...   \n",
       "...                ...                                                ...   \n",
       "104996             7.8  MPYRSNTYPRANRRSKSATFSTLLTILFIASHFAFGGIPASASMDG...   \n",
       "104997             7.8  MRMGKVEVSLVVVVGASMTALAVFGVLPKDPVPPAIAKATLWTPAP...   \n",
       "104998             7.8  MTTTLPTPHRFTGLALSAALATTTVLTLSPSAVLAVPAGGYGDLVE...   \n",
       "104999             7.8  MRDFQAPGRSAVLATNGMCATSHPLAAQAAIDILKRGGNAMDAAIA...   \n",
       "105000             7.8  MTPAFRHFVSALFLGLLPLSAAAFDTSAKAAFVIDQGTGTVLLSKN...   \n",
       "\n",
       "        PH_class  \n",
       "0             70  \n",
       "1             70  \n",
       "2             70  \n",
       "3             70  \n",
       "4             70  \n",
       "...          ...  \n",
       "104996        78  \n",
       "104997        78  \n",
       "104998        78  \n",
       "104999        78  \n",
       "105000        78  \n",
       "\n",
       "[105001 rows x 3 columns]"
      ]
     },
     "execution_count": 35,
     "metadata": {},
     "output_type": "execute_result"
    }
   ],
   "source": [
    "new_df_2 = []\n",
    "for idx,row in df.iterrows():\n",
    "    new_df_2.append({\n",
    "        'mean_growth_PH':row.mean_growth_PH,\n",
    "        'sequence':row.sequence,\n",
    "        'PH_class':label_mapping[str(round(row.mean_growth_PH,1))]\n",
    "    })\n",
    "new_df_2 =pd.DataFrame(new_df_2)\n",
    "new_df_2"
   ]
  },
  {
   "cell_type": "code",
   "execution_count": 38,
   "metadata": {},
   "outputs": [],
   "source": [
    "from sklearn.model_selection import train_test_split"
   ]
  },
  {
   "cell_type": "code",
   "execution_count": 50,
   "metadata": {},
   "outputs": [],
   "source": [
    "X_train, X_test,y_train, y_test = train_test_split(new_df_2.sequence, new_df_2.PH_class, test_size=0.33, random_state=42)"
   ]
  },
  {
   "cell_type": "code",
   "execution_count": 66,
   "metadata": {},
   "outputs": [
    {
     "data": {
      "text/plain": [
       "16299     MEIIPSSRFRGTWKYIRAFAFISLILAIFFTVALAGLIAFAKLKGA...\n",
       "101624    MKRSYLTISMACLVLAGCANSEQEYPKVALEAKYPNARSLAHFDDY...\n",
       "92356     MSNNVSAKIIIATHKQYHFPSDSIYLPLHVGKVDKKDLGLNGDDTG...\n",
       "74618     MKIRALLVAMSVATVLTGCQNMDSNRLLSSGAEAFQAYSLSDAQVK...\n",
       "17966     MYAPFFIRFLLSTLTLSILIVVILLAKKVFKKHISAKYQYNIGFIL...\n",
       "                                ...                        \n",
       "54886     MTNLTLAFSTIFVVALVAMVSTKLWLASRQIRYVAAHRNGVPAQFS...\n",
       "76820     MLFTASVSAALPARYMQTIENAAIWAQIGDKMVTVGNIRAGQIIAV...\n",
       "103694    MYNRVSDRSTRPNQADEPSGSADGYEFAQALTDLAQRESPPCGELS...\n",
       "860       MNSIDRTSVLGAGLLLALGCMPLPVAAQSDPSRETATTGWATQNGG...\n",
       "15795     MKSYSKKMLVGVSFASLMLGSFQGVSLAEDTKGEQVSYRNVLKMEP...\n",
       "Name: sequence, Length: 70350, dtype: object"
      ]
     },
     "execution_count": 66,
     "metadata": {},
     "output_type": "execute_result"
    }
   ],
   "source": [
    "X_train"
   ]
  },
  {
   "cell_type": "code",
   "execution_count": 67,
   "metadata": {},
   "outputs": [
    {
     "name": "stdout",
     "output_type": "stream",
     "text": [
      "(70350, 8740)\n"
     ]
    }
   ],
   "source": [
    "tfidfvectorizer = TfidfVectorizer(analyzer='char',ngram_range=(3,3))\n",
    "tfidf = tfidfvectorizer.fit_transform(X_train)\n",
    "print(tfidf.shape)"
   ]
  },
  {
   "cell_type": "code",
   "execution_count": 69,
   "metadata": {},
   "outputs": [],
   "source": [
    "classifier = SGDClassifier().fit(tfidf, y_train)"
   ]
  },
  {
   "cell_type": "code",
   "execution_count": 71,
   "metadata": {},
   "outputs": [],
   "source": [
    "tfidf = tfidfvectorizer.transform(X_test)"
   ]
  },
  {
   "cell_type": "code",
   "execution_count": 73,
   "metadata": {},
   "outputs": [],
   "source": [
    "pred = classifier.predict(tfidf)\n"
   ]
  },
  {
   "cell_type": "code",
   "execution_count": 98,
   "metadata": {},
   "outputs": [],
   "source": [
    "y_pred_classifier_float_2 = []\n",
    "y_test_float = list(y_test)\n",
    "y_test_float_3=[]\n",
    "for i in range(len(X_test)):\n",
    "    y_pred_classifier_float_2.append(float(label_mapping_inv[pred[i]]))\n",
    "    y_test_float_3.append(float(label_mapping_inv[y_test_float[i]]))\n",
    "\n",
    "res5 = np.sqrt(mean_squared_error(y_test_float_3, y_pred_classifier_float_2))"
   ]
  },
  {
   "cell_type": "code",
   "execution_count": 99,
   "metadata": {},
   "outputs": [
    {
     "data": {
      "text/plain": [
       "0.591710165563486"
      ]
     },
     "execution_count": 99,
     "metadata": {},
     "output_type": "execute_result"
    }
   ],
   "source": [
    "res5"
   ]
  },
  {
   "cell_type": "code",
   "execution_count": 100,
   "metadata": {},
   "outputs": [],
   "source": [
    "import pickle"
   ]
  },
  {
   "cell_type": "code",
   "execution_count": 108,
   "metadata": {},
   "outputs": [],
   "source": [
    "filename=[]\n",
    "filename.append('model.pickle')\n",
    "pickle.dump(classifier, open(filename[0], 'wb'))"
   ]
  },
  {
   "cell_type": "code",
   "execution_count": 105,
   "metadata": {},
   "outputs": [
    {
     "data": {
      "text/plain": [
       "0.776283512741335"
      ]
     },
     "execution_count": 105,
     "metadata": {},
     "output_type": "execute_result"
    }
   ],
   "source": [
    "classifier.score(tfidf,y_test)"
   ]
  },
  {
   "cell_type": "code",
   "execution_count": 106,
   "metadata": {},
   "outputs": [],
   "source": [
    "from scipy import stats"
   ]
  },
  {
   "cell_type": "code",
   "execution_count": 107,
   "metadata": {},
   "outputs": [
    {
     "data": {
      "text/plain": [
       "SpearmanrResult(correlation=0.5038580324042762, pvalue=0.0)"
      ]
     },
     "execution_count": 107,
     "metadata": {},
     "output_type": "execute_result"
    }
   ],
   "source": [
    "stats.spearmanr(y_test_float_3, y_pred_classifier_float_2)\n"
   ]
  },
  {
   "cell_type": "code",
   "execution_count": null,
   "metadata": {},
   "outputs": [],
   "source": [
    "import pandas as pd\n",
    "from sklearn.model_selection import train_test_split\n",
    "from sklearn.feature_extraction.text import TfidfVectorizer\n",
    "\n",
    "from model import BaselineModel\n",
    "\n",
    "# Load data set\n",
    "with open('data/train_set.csv', 'rb') as train_data:\n",
    "    df = pd.read_csv(train_data, nrows=1000)\n",
    "    \n",
    "label_mapping = {}\n",
    "ph = 0.0\n",
    "ctr = 0\n",
    "while ph <= 14.0:\n",
    "    label_mapping[str(round(ph,1))] = ctr\n",
    "    ctr += 1\n",
    "    ph += 0.1\n",
    "    \n",
    "label_mapping_inv = {}\n",
    "for key in label_mapping:\n",
    "    label_mapping_inv[label_mapping[key]] = key\n",
    "    \n",
    "    \n",
    "new_df_2 = []\n",
    "for idx,row in df.iterrows():\n",
    "    new_df_2.append({\n",
    "        'mean_growth_PH':row.mean_growth_PH,\n",
    "        'sequence':row.sequence,\n",
    "        'PH_class':label_mapping[str(round(row.mean_growth_PH,1))]\n",
    "    })\n",
    "new_df_2 =pd.DataFrame(new_df_2)\n",
    "\n",
    "X_train, X_test,y_train, y_test = train_test_split(new_df_2.sequence, new_df_2.PH_class, test_size=0.33, random_state=42)\n",
    "\n",
    "tfidfvectorizer = TfidfVectorizer(analyzer='char',ngram_range=(3,3))\n",
    "tfidf = tfidfvectorizer.fit_transform(X_train)\n",
    "\n",
    "BaselineModel(model_file_path='src/model.pickle').train(tfidf,y_train)"
   ]
  },
  {
   "cell_type": "code",
   "execution_count": null,
   "metadata": {},
   "outputs": [],
   "source": [
    "from sklearn.linear_model import SGDClassifier\n",
    "from sklearn.feature_extraction.text import TfidfVectorizer\n",
    "\n",
    "import numpy as np\n",
    "import pickle\n",
    "\n",
    "\n",
    "class BaselineModel:\n",
    "    def __init__(self, model_file_path):\n",
    "        self.model_file_path = model_file_path\n",
    "\n",
    "\n",
    "    def train(self,X, df_train):\n",
    "       \n",
    "\n",
    "        model = SGDClassifier()\n",
    "        model.fit(X, df_train)\n",
    "\n",
    "        with open(self.model_file_path, 'wb') as model_file:\n",
    "            pickle.dump(model, model_file)\n",
    "\n",
    "    def predict(self, df_test, tfidvectorizer):\n",
    "        with open(self.model_file_path, 'rb') as model_file:\n",
    "            model: tree.DecisionTreeRegressor = pickle.load(model_file)\n",
    "                \n",
    "        tfidf = tfidfvectorizer.transform(df_test.sequence)\n",
    "        \n",
    "        return model.predict(tfidf)\n"
   ]
  },
  {
   "cell_type": "code",
   "execution_count": null,
   "metadata": {},
   "outputs": [],
   "source": [
    "import argparse\n",
    "import pandas as pd\n",
    "from model import BaselineModel\n",
    "\n",
    "parser = argparse.ArgumentParser()\n",
    "parser.add_argument('--input_csv', default='input.csv')\n",
    "args = parser.parse_args()\n",
    "\n",
    "# Config\n",
    "output_file_path = 'predictions.csv'\n",
    "\n",
    "# Load input.csv\n",
    "with open(args.input_csv) as input_csv:\n",
    "    df = pd.read_csv(input_csv)\n",
    "\n",
    "# Run predictions\n",
    "y_predictions = BaselineModel(model_file_path='src/model.pickle').predict(df)\n",
    "\n",
    "y_pred_classifier_float_2 = []\n",
    "y_test_float = list(y_test)\n",
    "y_test_float_3=[]\n",
    "for i in range(len(X_test)):\n",
    "    y_pred_classifier_float_2.append(float(label_mapping_inv[y_predictions[i]]))\n",
    "    y_test_float_3.append(float(label_mapping_inv[y_test_float[i]]))\n",
    "\n",
    "# Save predictions to file\n",
    "df_predictions = pd.DataFrame({'prediction': y_pred_classifier_float_2})\n",
    "df_predictions.to_csv(output_file_path, index=False)\n",
    "\n",
    "print(f'{len(y_predictions)} predictions saved to a csv file')\n"
   ]
  }
 ],
 "metadata": {
  "kernelspec": {
   "display_name": "Python 3",
   "language": "python",
   "name": "python3"
  },
  "language_info": {
   "codemirror_mode": {
    "name": "ipython",
    "version": 3
   },
   "file_extension": ".py",
   "mimetype": "text/x-python",
   "name": "python",
   "nbconvert_exporter": "python",
   "pygments_lexer": "ipython3",
   "version": "3.8.3"
  }
 },
 "nbformat": 4,
 "nbformat_minor": 4
}
